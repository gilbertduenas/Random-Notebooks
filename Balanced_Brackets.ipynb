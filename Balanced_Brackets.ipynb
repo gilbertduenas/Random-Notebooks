{
  "nbformat": 4,
  "nbformat_minor": 0,
  "metadata": {
    "colab": {
      "name": "Balanced Brackets",
      "provenance": [],
      "authorship_tag": "ABX9TyNlWOHvOW7//E3ZMa9kjWVy",
      "include_colab_link": true
    },
    "kernelspec": {
      "name": "python3",
      "display_name": "Python 3"
    }
  },
  "cells": [
    {
      "cell_type": "markdown",
      "metadata": {
        "id": "view-in-github",
        "colab_type": "text"
      },
      "source": [
        "<a href=\"https://colab.research.google.com/github/gilbertduenas/Random-Notebooks/blob/master/Balanced_Brackets.ipynb\" target=\"_parent\"><img src=\"https://colab.research.google.com/assets/colab-badge.svg\" alt=\"Open In Colab\"/></a>"
      ]
    },
    {
      "cell_type": "code",
      "metadata": {
        "id": "pVxCwd35GLIY",
        "colab_type": "code",
        "colab": {}
      },
      "source": [
        "# https://www.geeksforgeeks.org/check-for-balanced-parentheses-in-python\n",
        "# https://www.hackerrank.com/challenges/balanced-brackets/problem"
      ],
      "execution_count": 1,
      "outputs": []
    },
    {
      "cell_type": "code",
      "metadata": {
        "id": "r9pkZmRUGgPr",
        "colab_type": "code",
        "colab": {
          "base_uri": "https://localhost:8080/",
          "height": 52
        },
        "outputId": "c7d40024-b477-4871-9a7d-aa6250575ed1"
      },
      "source": [
        "'''\n",
        "CHARS = '(', '{', '[',')', '}', ']'\n",
        "\n",
        "Balanced strings\n",
        "S = \"\"\n",
        "S = \"()\"\n",
        "S = \"(){}\"\n",
        "S = \"([])\"\n",
        "S = \"(){[]()}\"\n",
        "S = \"{[{}]}\"\n",
        "\n",
        "Un-balanced strings\n",
        "S = \"(\"\n",
        "S = \")(\"\n",
        "S = \"([)]\"\n",
        "S = \")\"\n",
        "S = \"())\"\n",
        "'''"
      ],
      "execution_count": 2,
      "outputs": [
        {
          "output_type": "execute_result",
          "data": {
            "application/vnd.google.colaboratory.intrinsic+json": {
              "type": "string"
            },
            "text/plain": [
              "'\\nCHARS = \\'(\\', \\'{\\', \\'[\\',\\')\\', \\'}\\', \\']\\'\\n\\nBalanced strings\\nS = \"\"\\nS = \"()\"\\nS = \"(){}\"\\nS = \"([])\"\\nS = \"(){[]()}\"\\nS = \"{[{}]}\"\\n\\nUn-balanced strings\\nS = \"(\"\\nS = \")(\"\\nS = \"([)]\"\\nS = \")\"\\nS = \"())\"\\n'"
            ]
          },
          "metadata": {
            "tags": []
          },
          "execution_count": 2
        }
      ]
    },
    {
      "cell_type": "code",
      "metadata": {
        "id": "p60a74e2G7IY",
        "colab_type": "code",
        "colab": {}
      },
      "source": [
        "def isBalanced(s):\n",
        "    start = ['[', '{', '(']\n",
        "    close = [']', '}', ')']\n",
        "    valid = []\n",
        "    \n",
        "    for i in s:\n",
        "        if i in start:\n",
        "            valid.append(i)\n",
        "        elif i in close:\n",
        "            index = close.index(i)\n",
        "            if ((len(valid) > 0) and (start[index] == valid[len(valid)-1])):\n",
        "                valid.pop()\n",
        "            else:\n",
        "                return 'NO'\n",
        "                \n",
        "    if len(valid) == 0:\n",
        "        return 'YES'\n",
        "    else:\n",
        "        return 'NO'"
      ],
      "execution_count": 3,
      "outputs": []
    },
    {
      "cell_type": "code",
      "metadata": {
        "id": "Bytg4XqBQCaC",
        "colab_type": "code",
        "colab": {}
      },
      "source": [
        "test = [\"\", \"()\", \"(){}\", \"([])\", \"(){[]()}\", \"{[{}]}\", \"(\", \")(\", \"([)]\", \")\", \"())\"]"
      ],
      "execution_count": 6,
      "outputs": []
    },
    {
      "cell_type": "code",
      "metadata": {
        "id": "7BtX4efwQbIZ",
        "colab_type": "code",
        "colab": {
          "base_uri": "https://localhost:8080/",
          "height": 201
        },
        "outputId": "38555613-c92e-42b1-f9b8-8770125c0cad"
      },
      "source": [
        "for i in test:\n",
        "  print(isBalanced(i))"
      ],
      "execution_count": 7,
      "outputs": [
        {
          "output_type": "stream",
          "text": [
            "YES\n",
            "YES\n",
            "YES\n",
            "YES\n",
            "YES\n",
            "YES\n",
            "NO\n",
            "NO\n",
            "NO\n",
            "NO\n",
            "NO\n"
          ],
          "name": "stdout"
        }
      ]
    },
    {
      "cell_type": "code",
      "metadata": {
        "id": "YAesA_2TQjbX",
        "colab_type": "code",
        "colab": {}
      },
      "source": [
        ""
      ],
      "execution_count": 7,
      "outputs": []
    }
  ]
}