{
  "nbformat": 4,
  "nbformat_minor": 0,
  "metadata": {
    "colab": {
      "name": "Color Text",
      "provenance": [],
      "private_outputs": true,
      "authorship_tag": "ABX9TyN4A1nuveKRCusPmtl5FjG5",
      "include_colab_link": true
    },
    "kernelspec": {
      "name": "python3",
      "display_name": "Python 3"
    }
  },
  "cells": [
    {
      "cell_type": "markdown",
      "metadata": {
        "id": "view-in-github",
        "colab_type": "text"
      },
      "source": [
        "<a href=\"https://colab.research.google.com/github/gilbertduenas/Random-Notebooks/blob/master/Color_Text.ipynb\" target=\"_parent\"><img src=\"https://colab.research.google.com/assets/colab-badge.svg\" alt=\"Open In Colab\"/></a>"
      ]
    },
    {
      "cell_type": "code",
      "metadata": {
        "id": "aUPmlZFZ22Hv",
        "colab_type": "code",
        "colab": {}
      },
      "source": [
        "import random\n",
        "import sys\n",
        "import time\n",
        "\n",
        "from IPython.display import clear_output\n",
        "from termcolor import colored, cprint"
      ],
      "execution_count": null,
      "outputs": []
    },
    {
      "cell_type": "code",
      "metadata": {
        "id": "gkZLFqPK2sYu",
        "colab_type": "code",
        "colab": {}
      },
      "source": [
        "def color_text_test():\n",
        "  cprint('Hello, World!', 'grey', 'on_grey', attrs=['blink', 'bold'])\n",
        "  cprint('Hello, World!', 'grey', 'on_red', attrs=['blink', 'bold'])\n",
        "  cprint('Hello, World!', 'grey', 'on_yellow', attrs=['blink', 'bold'])\n",
        "  cprint('Hello, World!', 'grey', 'on_green', attrs=['blink', 'bold'])\n",
        "  cprint('Hello, World!', 'grey', 'on_cyan', attrs=['blink', 'bold'])\n",
        "  cprint('Hello, World!', 'grey', 'on_blue', attrs=['blink', 'bold'])\n",
        "  cprint('Hello, World!', 'grey', 'on_magenta', attrs=['blink', 'bold'])\n",
        "  cprint('Hello, World!', 'grey', 'on_white', attrs=['blink', 'bold'])\n",
        "\n",
        "  cprint('Hello, World!', 'red', 'on_grey', attrs=['blink', 'bold'])\n",
        "  cprint('Hello, World!', 'red', 'on_red', attrs=['blink', 'bold'])\n",
        "  cprint('Hello, World!', 'red', 'on_yellow', attrs=['blink', 'bold'])\n",
        "  cprint('Hello, World!', 'red', 'on_green', attrs=['blink', 'bold'])\n",
        "  cprint('Hello, World!', 'red', 'on_cyan', attrs=['blink', 'bold'])\n",
        "  cprint('Hello, World!', 'red', 'on_blue', attrs=['blink', 'bold'])\n",
        "  cprint('Hello, World!', 'red', 'on_magenta', attrs=['blink', 'bold'])\n",
        "  cprint('Hello, World!', 'red', 'on_white', attrs=['blink', 'bold'])\n",
        "\n",
        "  cprint('Hello, World!', 'yellow', 'on_grey', attrs=['blink', 'bold'])\n",
        "  cprint('Hello, World!', 'yellow', 'on_red', attrs=['blink', 'bold'])\n",
        "  cprint('Hello, World!', 'yellow', 'on_yellow', attrs=['blink', 'bold'])\n",
        "  cprint('Hello, World!', 'yellow', 'on_green', attrs=['blink', 'bold'])\n",
        "  cprint('Hello, World!', 'yellow', 'on_cyan', attrs=['blink', 'bold'])\n",
        "  cprint('Hello, World!', 'yellow', 'on_blue', attrs=['blink', 'bold'])\n",
        "  cprint('Hello, World!', 'yellow', 'on_magenta', attrs=['blink', 'bold'])\n",
        "  cprint('Hello, World!', 'yellow', 'on_white', attrs=['blink', 'bold'])\n",
        "\n",
        "  cprint('Hello, World!', 'green', 'on_grey', attrs=['blink', 'bold'])\n",
        "  cprint('Hello, World!', 'green', 'on_red', attrs=['blink', 'bold'])\n",
        "  cprint('Hello, World!', 'green', 'on_yellow', attrs=['blink', 'bold'])\n",
        "  cprint('Hello, World!', 'green', 'on_green', attrs=['blink', 'bold'])\n",
        "  cprint('Hello, World!', 'green', 'on_cyan', attrs=['blink', 'bold'])\n",
        "  cprint('Hello, World!', 'green', 'on_blue', attrs=['blink', 'bold'])\n",
        "  cprint('Hello, World!', 'green', 'on_magenta', attrs=['blink', 'bold'])\n",
        "  cprint('Hello, World!', 'green', 'on_white', attrs=['blink', 'bold'])\n",
        "\n",
        "  cprint('Hello, World!', 'blue', 'on_grey', attrs=['blink', 'bold'])\n",
        "  cprint('Hello, World!', 'blue', 'on_red', attrs=['blink', 'bold'])\n",
        "  cprint('Hello, World!', 'blue', 'on_yellow', attrs=['blink', 'bold'])\n",
        "  cprint('Hello, World!', 'blue', 'on_green', attrs=['blink', 'bold'])\n",
        "  cprint('Hello, World!', 'blue', 'on_cyan', attrs=['blink', 'bold'])\n",
        "  cprint('Hello, World!', 'blue', 'on_blue', attrs=['blink', 'bold'])\n",
        "  cprint('Hello, World!', 'blue', 'on_magenta', attrs=['blink', 'bold'])\n",
        "  cprint('Hello, World!', 'blue', 'on_white', attrs=['blink', 'bold'])\n",
        "\n",
        "  cprint('Hello, World!', 'white', 'on_grey', attrs=['blink', 'bold'])\n",
        "  cprint('Hello, World!', 'white', 'on_red', attrs=['blink', 'bold'])\n",
        "  cprint('Hello, World!', 'white', 'on_yellow', attrs=['blink', 'bold'])\n",
        "  cprint('Hello, World!', 'white', 'on_green', attrs=['blink', 'bold'])\n",
        "  cprint('Hello, World!', 'white', 'on_cyan', attrs=['blink', 'bold'])\n",
        "  cprint('Hello, World!', 'white', 'on_blue', attrs=['blink', 'bold'])\n",
        "  cprint('Hello, World!', 'white', 'on_magenta', attrs=['blink', 'bold'])\n",
        "  cprint('Hello, World!', 'white', 'on_white', attrs=['blink', 'bold'])"
      ],
      "execution_count": null,
      "outputs": []
    },
    {
      "cell_type": "code",
      "metadata": {
        "id": "ZrPONx_G2vJ9",
        "colab_type": "code",
        "colab": {}
      },
      "source": [
        "color_text_test()"
      ],
      "execution_count": null,
      "outputs": []
    },
    {
      "cell_type": "code",
      "metadata": {
        "id": "VuASQCNf2xAL",
        "colab_type": "code",
        "colab": {}
      },
      "source": [
        ""
      ],
      "execution_count": null,
      "outputs": []
    }
  ]
}