{
  "nbformat": 4,
  "nbformat_minor": 0,
  "metadata": {
    "colab": {
      "name": "What game to play?",
      "provenance": [],
      "private_outputs": true,
      "authorship_tag": "ABX9TyPU385SRa3WBIxvHCUSMN+A",
      "include_colab_link": true
    },
    "kernelspec": {
      "name": "python3",
      "display_name": "Python 3"
    }
  },
  "cells": [
    {
      "cell_type": "markdown",
      "metadata": {
        "id": "view-in-github",
        "colab_type": "text"
      },
      "source": [
        "<a href=\"https://colab.research.google.com/github/gilbertduenas/Random-Notebooks/blob/master/What_game_to_play%3F.ipynb\" target=\"_parent\"><img src=\"https://colab.research.google.com/assets/colab-badge.svg\" alt=\"Open In Colab\"/></a>"
      ]
    },
    {
      "cell_type": "code",
      "metadata": {
        "id": "iPWWoExC91pn",
        "colab_type": "code",
        "colab": {}
      },
      "source": [
        "import random \n"
      ],
      "execution_count": null,
      "outputs": []
    },
    {
      "cell_type": "code",
      "metadata": {
        "id": "JJ9wzQoY9Or_",
        "colab_type": "code",
        "colab": {}
      },
      "source": [
        "print (random.choice(['GTA', 'Diablo', 'Overwatch', 'Puyo Tetris', 'Sparkle'])) \n"
      ],
      "execution_count": null,
      "outputs": []
    },
    {
      "cell_type": "code",
      "metadata": {
        "id": "gZXK0ed89xR6",
        "colab_type": "code",
        "colab": {}
      },
      "source": [
        ""
      ],
      "execution_count": null,
      "outputs": []
    }
  ]
}